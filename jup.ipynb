{
 "cells": [
  {
   "attachments": {},
   "cell_type": "markdown",
   "metadata": {},
   "source": [
    "# Neural Networking Playground"
   ]
  },
  {
   "cell_type": "code",
   "execution_count": 1,
   "metadata": {},
   "outputs": [],
   "source": [
    "import numpy as np\n",
    "import pandas as pd\n",
    "\n",
    "import matplotlib.pyplot as plt\n",
    "plt.rcParams[\"axes.grid\"] = True\n",
    "\n",
    "from lib.utils.perfmets import MSE\n",
    "from lib.Conventional_NN import network"
   ]
  },
  {
   "cell_type": "code",
   "execution_count": 2,
   "metadata": {},
   "outputs": [
    {
     "name": "stdout",
     "output_type": "stream",
     "text": [
      "   sepal_length  sepal_width  petal_length  petal_width      species\n",
      "0           5.1          3.5           1.4          0.2  Iris-setosa\n",
      "1           4.9          3.0           1.4          0.2  Iris-setosa\n",
      "2           4.7          3.2           1.3          0.2  Iris-setosa\n",
      "3           4.6          3.1           1.5          0.2  Iris-setosa\n",
      "4           5.0          3.6           1.4          0.2  Iris-setosa\n"
     ]
    }
   ],
   "source": [
    "# CLASSIC(\\bFICATION) ML data set (classification)\n",
    "df = pd.read_csv(\"https://raw.githubusercontent.com/practiceprobs/datasets/main/iris/iris.csv\")\n",
    "print(df.head())\n",
    "\n",
    "data = df.to_numpy()\n",
    "x = data[:,0:-1].astype(np.float64)\n",
    "y_class = data[:,-1]\n",
    "y_1hot = np.zeros((y_class.shape[0],3))\n",
    "for i in range(y_class.size):\n",
    "    if y_class[i]==\"Iris-setosa\":\n",
    "        y_1hot[i,0] = 1\n",
    "    elif y_class[i]==\"Iris-versicolor\":\n",
    "        y_1hot[i,1] = 1\n",
    "    elif y_class[i]==\"Iris-virginica\":\n",
    "        y_1hot[i,2] = 1"
   ]
  },
  {
   "cell_type": "code",
   "execution_count": 3,
   "metadata": {},
   "outputs": [
    {
     "name": "stdout",
     "output_type": "stream",
     "text": [
      "\n",
      "============================================================\n",
      "Beginning training routine...\n",
      "\n",
      "Training Complete!\n",
      "============================================================\n",
      "\n"
     ]
    }
   ],
   "source": [
    "\n",
    "n = network(4,4,3)\n",
    "n.init_random_weights()\n",
    "fmse,bmse = n.train(x,y_1hot,0.01,10000,batch_size=50)"
   ]
  },
  {
   "cell_type": "code",
   "execution_count": null,
   "metadata": {},
   "outputs": [],
   "source": [
    "epochs = np.arange(fmse.size)\n",
    "plt.plot(epochs,fmse)\n",
    "plt.show()"
   ]
  },
  {
   "cell_type": "code",
   "execution_count": null,
   "metadata": {},
   "outputs": [],
   "source": [
    "\n",
    "X_train =  [[0,0],\n",
    "            [1,0],\n",
    "            [0,1],\n",
    "            [1,1]]\n",
    "Y_train =  [[0],\n",
    "            [1],\n",
    "            [1],\n",
    "            [0]]\n",
    "    \n",
    "x = np.array(X_train)\n",
    "y = np.array(Y_train)\n",
    "\n",
    "n = network(2,3,1)\n",
    "n.init_random_weights()\n",
    "\n",
    "for bs in range(1,5):\n",
    "    fmse,bmse = n.train(x,y,0.03,10000,batch_size=bs)\n",
    "    epochs = np.arange(fmse.size)\n",
    "    plt.plot(epochs,fmse,alpha=1/2)"
   ]
  }
 ],
 "metadata": {
  "kernelspec": {
   "display_name": "tf",
   "language": "python",
   "name": "python3"
  },
  "language_info": {
   "codemirror_mode": {
    "name": "ipython",
    "version": 3
   },
   "file_extension": ".py",
   "mimetype": "text/x-python",
   "name": "python",
   "nbconvert_exporter": "python",
   "pygments_lexer": "ipython3",
   "version": "3.10.9"
  },
  "orig_nbformat": 4,
  "vscode": {
   "interpreter": {
    "hash": "0957f508a0b75508fdbfffffa26fa573d360408e90b1ee27b14afb018d10948e"
   }
  }
 },
 "nbformat": 4,
 "nbformat_minor": 2
}
